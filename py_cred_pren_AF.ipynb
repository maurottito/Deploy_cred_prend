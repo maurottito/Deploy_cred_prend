{
  "nbformat": 4,
  "nbformat_minor": 0,
  "metadata": {
    "colab": {
      "name": "py_cred_pren_AF.ipynb",
      "provenance": [],
      "authorship_tag": "ABX9TyN5fxOyzU6ojShlnp/BXGPA",
      "include_colab_link": true
    },
    "kernelspec": {
      "name": "python3",
      "display_name": "Python 3"
    },
    "language_info": {
      "name": "python"
    }
  },
  "cells": [
    {
      "cell_type": "markdown",
      "metadata": {
        "id": "view-in-github",
        "colab_type": "text"
      },
      "source": [
        "<a href=\"https://colab.research.google.com/github/maurottito/Deploy_cred_prend/blob/main/py_cred_pren_AF.ipynb\" target=\"_parent\"><img src=\"https://colab.research.google.com/assets/colab-badge.svg\" alt=\"Open In Colab\"/></a>"
      ]
    },
    {
      "cell_type": "code",
      "execution_count": null,
      "metadata": {
        "id": "vxq8TYP8oExc",
        "colab": {
          "base_uri": "https://localhost:8080/"
        },
        "outputId": "a37386e6-dc37-478a-b703-ed03908fe647"
      },
      "outputs": [
        {
          "output_type": "stream",
          "name": "stdout",
          "text": [
            "Collecting pyreadstat\n",
            "  Downloading pyreadstat-1.1.4-cp37-cp37m-manylinux_2_17_x86_64.manylinux2014_x86_64.whl (2.4 MB)\n",
            "\u001b[K     |████████████████████████████████| 2.4 MB 5.1 MB/s \n",
            "\u001b[?25hRequirement already satisfied: pandas>=1.2.0 in /usr/local/lib/python3.7/dist-packages (from pyreadstat) (1.3.5)\n",
            "Requirement already satisfied: pytz>=2017.3 in /usr/local/lib/python3.7/dist-packages (from pandas>=1.2.0->pyreadstat) (2018.9)\n",
            "Requirement already satisfied: python-dateutil>=2.7.3 in /usr/local/lib/python3.7/dist-packages (from pandas>=1.2.0->pyreadstat) (2.8.2)\n",
            "Requirement already satisfied: numpy>=1.17.3 in /usr/local/lib/python3.7/dist-packages (from pandas>=1.2.0->pyreadstat) (1.21.5)\n",
            "Requirement already satisfied: six>=1.5 in /usr/local/lib/python3.7/dist-packages (from python-dateutil>=2.7.3->pandas>=1.2.0->pyreadstat) (1.15.0)\n",
            "Installing collected packages: pyreadstat\n",
            "Successfully installed pyreadstat-1.1.4\n"
          ]
        }
      ],
      "source": [
        "#pip install pyreadstat"
      ]
    },
    {
      "cell_type": "code",
      "source": [
        "#pip install pyprojroot"
      ],
      "metadata": {
        "id": "M_EQvIUiozuP",
        "colab": {
          "base_uri": "https://localhost:8080/"
        },
        "outputId": "cef32125-fb19-4c4b-85ad-544e9870482d"
      },
      "execution_count": null,
      "outputs": [
        {
          "output_type": "stream",
          "name": "stdout",
          "text": [
            "Collecting pyprojroot\n",
            "  Downloading pyprojroot-0.2.0-py3-none-any.whl (5.2 kB)\n",
            "Installing collected packages: pyprojroot\n",
            "Successfully installed pyprojroot-0.2.0\n"
          ]
        }
      ]
    },
    {
      "cell_type": "code",
      "source": [
        "#importamos librerias\n",
        "import pyreadstat\n",
        "import pandas as pd\n",
        "from pyprojroot import here \n",
        "#from time import time, ctime\n",
        "import datetime\n",
        "#from janitor import clean_names\n",
        "import numpy as np\n",
        "import matplotlib.pyplot as plt\n",
        "import seaborn as sns\n",
        "%matplotlib inline"
      ],
      "metadata": {
        "id": "37SvQR5Voz82"
      },
      "execution_count": null,
      "outputs": []
    },
    {
      "cell_type": "code",
      "source": [
        "#Cargando la data\n",
        "#data, meta = pyreadstat.read_sav(here() / \"Input/Credito prendario.sav\")\n",
        "data, meta = pyreadstat.read_sav(\"Credito prendario.sav\")"
      ],
      "metadata": {
        "id": "tp3fE-YMo0Dm"
      },
      "execution_count": null,
      "outputs": []
    },
    {
      "cell_type": "markdown",
      "source": [
        "## **1. Transformación y limpieza de la BD**"
      ],
      "metadata": {
        "id": "fvWBBRRJptyW"
      }
    },
    {
      "cell_type": "code",
      "source": [
        "# Nos quedaremos con los registros del último mes\n",
        "data=data[data.Periodo == data[\"Periodo\"].max()] #max de periodo 201912"
      ],
      "metadata": {
        "id": "YWmmdcp4rXLZ"
      },
      "execution_count": null,
      "outputs": []
    },
    {
      "cell_type": "code",
      "source": [
        "# Nos quedaremos con los registros que no cayeron en adjudicación y por lo tanto se puede establecer alguna estrategia a tiempo\n",
        "#data=data[data.FlagAdj == 0]"
      ],
      "metadata": {
        "id": "NoawYnoMuN_y"
      },
      "execution_count": null,
      "outputs": []
    },
    {
      "cell_type": "code",
      "source": [
        "#Eliminar los casos con Edad menor a 18 años:\n",
        "data = data[data.Edad >= 18]"
      ],
      "metadata": {
        "id": "HctYGGhBpQpm"
      },
      "execution_count": null,
      "outputs": []
    },
    {
      "cell_type": "code",
      "source": [
        "#Eliminar los casos con desembolso=0:\n",
        "data = data[data.Desem > 0]"
      ],
      "metadata": {
        "id": "KOo7S6i2pQr-"
      },
      "execution_count": null,
      "outputs": []
    },
    {
      "cell_type": "code",
      "source": [
        "#Estableciendo un umbral al ratio de desembolso y tasación, en clase el profesor\n",
        "#Chincaro nos indicó 0.99 para no eliminar mucha información\n",
        "data['ratio_desem_tasa'] = data['Desem']/data['Monto_Tasación']\n",
        "data = data[data.ratio_desem_tasa <= 0.99]"
      ],
      "metadata": {
        "id": "OFlkecwqpQt-"
      },
      "execution_count": null,
      "outputs": []
    },
    {
      "cell_type": "code",
      "source": [
        "#Editando variables de tiempo\n",
        "data['t_Periodo'] = pd.to_datetime(data['Periodo'], format='%Y%m')"
      ],
      "metadata": {
        "id": "-qchquCRqSa4"
      },
      "execution_count": null,
      "outputs": []
    },
    {
      "cell_type": "code",
      "source": [
        "#Eliminando variables de no interés\n",
        "del data['ratio_desem_tasa'],data['FlagAtra'],data['Periodo'],data['FlagAdj']"
      ],
      "metadata": {
        "id": "fiAI5_KpqSdX"
      },
      "execution_count": null,
      "outputs": []
    },
    {
      "cell_type": "code",
      "source": [
        "#Dicotomizando\n",
        "#EstaCiv 1:CASADO, 2: CONVIVIENTE, 3: DIVORCIADO, 4: SEPARADO, 5: SOLTERO, 6: VIUDO\n",
        "data['EstaCiv_cas'] = data['EstaCiv']\n",
        "data['EstaCiv_con'] = data['EstaCiv']\n",
        "data['EstaCiv_div'] = data['EstaCiv']\n",
        "data['EstaCiv_sep'] = data['EstaCiv']\n",
        "data['EstaCiv_sol'] = data['EstaCiv']\n",
        "data.replace(to_replace={\"EstaCiv_cas\": {2:0,3:0,4:0,5:0,6:0},\"EstaCiv_con\": {1:0,2:1,3:0,4:0,5:0,6:0},\"EstaCiv_div\": {1:0,2:0,3:1,4:0,5:0,6:0},\"EstaCiv_sep\": {1:0,2:0,3:0,4:1,5:0,6:0},\"EstaCiv_sol\": {1:0,2:0,3:0,4:0,5:1,6:0}},inplace=True)\n",
        "\n",
        "#TipoViv 1:ALQUILADA, 2: ALQUILER VENTA, 3: DE FAMILIA, 4: PROPIA\n",
        "data['TipoViv_alq'] = data['TipoViv']\n",
        "data['TipoViv_def'] = data['TipoViv']\n",
        "data['TipoViv_pro'] = data['TipoViv']\n",
        "data.replace(to_replace={\"TipoViv_alq\": {2:0,3:0,4:0},\"TipoViv_def\": {1:0,2:0,3:1,4:0},\"TipoViv_pro\": {1:0,2:0,3:0,4:1}},inplace=True)\n",
        "\n",
        "#Eliminando variables de no interés\n",
        "del data['EstaCiv'],data['TipoViv']"
      ],
      "metadata": {
        "id": "n9JBkyNHqSf_"
      },
      "execution_count": null,
      "outputs": []
    },
    {
      "cell_type": "code",
      "source": [
        "#Se esta elimnando las variables de \"Desem\", 'Monto_Tasación' y \"MaxGramOro\" por ener una alta correlación\n",
        "#data=data.drop(['Desem','Monto_Tasación','MaxGramOro'],axis=1)"
      ],
      "metadata": {
        "id": "AUK_BYRptDJw"
      },
      "execution_count": null,
      "outputs": []
    },
    {
      "cell_type": "code",
      "source": [
        "data=data.reset_index(drop=True)"
      ],
      "metadata": {
        "id": "Rm_ZrS7o751b"
      },
      "execution_count": null,
      "outputs": []
    },
    {
      "cell_type": "markdown",
      "source": [
        "## **2. Aplicando modelo LGBM**"
      ],
      "metadata": {
        "id": "6YtsaH1SvxAL"
      }
    },
    {
      "cell_type": "code",
      "source": [
        "import requests\n",
        "import pickle\n",
        "from google.cloud import storage"
      ],
      "metadata": {
        "id": "bq2TyxDxvwHC"
      },
      "execution_count": null,
      "outputs": []
    },
    {
      "cell_type": "code",
      "source": [
        "#storage_client = storage.Client()\n",
        "#bucket = storage_client.get_bucket('model-credito-prendario')\n",
        "#blob = bucket.blob('classifier.pickle')\n",
        "#blob.download_to_filename('/tmp/classifier.pickle')\n",
        "#model_pk = pickle.load(open('/tmp/classifier.pickle', 'rb'))\n",
        "model_pk_MLS = pickle.load(open('model_lgbm_gridsearch.pickle', 'rb'))\n"
      ],
      "metadata": {
        "id": "Rzcfh9L2vwKB"
      },
      "execution_count": null,
      "outputs": []
    },
    {
      "cell_type": "code",
      "source": [
        "data_MLS=np.array(data[['Edad','Sexo','CantCred','SalVigSol','DiasEfec','MaxDeuda',\n",
        "                          'MaxDiasAtra','EstaCiv_cas','EstaCiv_con','EstaCiv_div',\n",
        "                          'EstaCiv_sep','EstaCiv_sol','TipoViv_alq','TipoViv_def','TipoViv_pro']])"
      ],
      "metadata": {
        "id": "ZfTGNN590Yj1"
      },
      "execution_count": null,
      "outputs": []
    },
    {
      "cell_type": "code",
      "source": [
        "prediction = model_pk_MLS.predict(data_MLS)"
      ],
      "metadata": {
        "id": "BSIk1tBcyuwt"
      },
      "execution_count": null,
      "outputs": []
    },
    {
      "cell_type": "code",
      "source": [
        "data = pd.concat([data,pd.DataFrame({'Adj_pred':prediction})],axis=1)"
      ],
      "metadata": {
        "id": "85uwogJP-jrc"
      },
      "execution_count": null,
      "outputs": []
    },
    {
      "cell_type": "code",
      "source": [
        "data['Adj_pred'].value_counts()"
      ],
      "metadata": {
        "colab": {
          "base_uri": "https://localhost:8080/"
        },
        "id": "MR9RaidGCPG5",
        "outputId": "61e27111-cb81-4dca-8a4e-ba310c35416a"
      },
      "execution_count": null,
      "outputs": [
        {
          "output_type": "execute_result",
          "data": {
            "text/plain": [
              "0.0    1004\n",
              "Name: Adj_pred, dtype: int64"
            ]
          },
          "metadata": {},
          "execution_count": 26
        }
      ]
    },
    {
      "cell_type": "markdown",
      "source": [
        "## **3. Aplicando modelo GMM**"
      ],
      "metadata": {
        "id": "U-bOKeY5Bas-"
      }
    },
    {
      "cell_type": "code",
      "source": [
        "model_pk_MLNS = pickle.load(open('model_gmm.pickle', 'rb'))"
      ],
      "metadata": {
        "id": "ToHQQoPDBezu"
      },
      "execution_count": null,
      "outputs": []
    },
    {
      "cell_type": "code",
      "source": [
        "data_MLNS=np.array(data[[\"Edad\",\"Sexo\",\"CantCred\",\"Desem\",\"SalVigSol\",\"Monto_Tasación\",\"DiasEfec\",\n",
        "                            \"MaxDeuda\",\"MaxDiasAtra\",\"MaxGramOro\",\"AntiDias\",\"EstaCiv_cas\",\"EstaCiv_con\",\n",
        "                            \"EstaCiv_div\",\"EstaCiv_sep\",\"EstaCiv_sol\",\"TipoViv_alq\",\"TipoViv_def\",\"TipoViv_pro\"]]) # Modificar de acuerdo a resultados en el modelo, usar datos scalar"
      ],
      "metadata": {
        "id": "B2dVbqqrBe2u"
      },
      "execution_count": null,
      "outputs": []
    },
    {
      "cell_type": "code",
      "source": [
        "cluster = model_pk_MLNS.predict(data_MLNS)"
      ],
      "metadata": {
        "id": "Ob9T_FziBe5O"
      },
      "execution_count": null,
      "outputs": []
    },
    {
      "cell_type": "code",
      "source": [
        "data = pd.concat([data,pd.DataFrame({'Cluster_MLNS':cluster})],axis=1)"
      ],
      "metadata": {
        "id": "uf_Rb_B5Be8G"
      },
      "execution_count": null,
      "outputs": []
    },
    {
      "cell_type": "code",
      "source": [
        "# Nos quedaremos con los registros que no cayeron en adjudicación y por lo tanto se puede establecer alguna estrategia a tiempo\n",
        "data=data[data.Adj_pred == 1]"
      ],
      "metadata": {
        "id": "V1zQjA1MBe-t"
      },
      "execution_count": null,
      "outputs": []
    },
    {
      "cell_type": "code",
      "source": [
        "data=data.reset_index(drop=True)"
      ],
      "metadata": {
        "id": "fQbzD8wAJdLk"
      },
      "execution_count": null,
      "outputs": []
    }
  ]
}